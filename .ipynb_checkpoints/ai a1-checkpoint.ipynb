{
 "cells": [
  {
   "cell_type": "code",
   "execution_count": 1,
   "id": "1c2a444f",
   "metadata": {},
   "outputs": [
    {
     "data": {
      "image/png": "[encoded data removed]",
      "text/plain": [
       "<Figure size 432x288 with 1 Axes>"
      ]
     },
     "metadata": {
      "needs_background": "light"
     },
     "output_type": "display_data"
    }
   ],
   "source": [
    "import matplotlib.pyplot as plt\n",
    "\n",
    "#Plotting a bar graph that shows the amount of documents in each of the 5 classes\n",
    "\n",
    "figure = plt.figure()\n",
    "figure.add_axes([0,0,1,1])\n",
    "classes = ['business', 'enterainment', 'politics', 'sport', 'tech']\n",
    "instances = [510,386,417,511,401]\n",
    "plt.bar(classes,instances)\n",
    "plt.title('Instances in each class')\n",
    "figure.savefig('BBC-distribution.pdf', bbox_inches = \"tight\")\n",
    "\n"
   ]
  },
  {
   "cell_type": "code",
   "execution_count": 3,
   "id": "450f3c8a",
   "metadata": {},
   "outputs": [],
   "source": [
    "from sklearn.datasets import load_files\n",
    "corpus=load_files(\"BBC\", encoding='latin 1')\n"
   ]
  },
  {
   "cell_type": "code",
   "execution_count": 4,
   "id": "30525c27",
   "metadata": {},
   "outputs": [
    {
     "name": "stdout",
     "output_type": "stream",
     "text": [
      "['business', 'entertainment', 'politics', 'sport', 'tech']\n"
     ]
    }
   ],
   "source": [
    "from sklearn.feature_extraction.text import CountVectorizer\n",
    "\n",
    "vectorizer = CountVectorizer()\n",
    "X = vectorizer.fit_transform(corpus)\n",
    "\n",
    "corpus.target_names\n",
    "print(corpus.target_names)\n",
    "\n"
   ]
  },
  {
   "cell_type": "code",
   "execution_count": 5,
   "id": "a65ba3d9",
   "metadata": {},
   "outputs": [],
   "source": [
    "from sklearn.model_selection import train_test_split\n",
    "\n",
    "Xtrain,Xtest,Ytrain,Ytest= train_test_split(X, classes, train_size = 0.8, test_size=0.2)    \n",
    "  \n"
   ]
  },
  {
   "cell_type": "code",
   "execution_count": 6,
   "id": "82d4a9c3",
   "metadata": {},
   "outputs": [
    {
     "name": "stdout",
     "output_type": "stream",
     "text": [
      "['sport' 'enterainment' 'business' 'politics']\n",
      "['sport', 'enterainment', 'business', 'politics']\n"
     ]
    }
   ],
   "source": [
    "from sklearn.naive_bayes import MultinomialNB\n",
    "clf = MultinomialNB()\n",
    "clf.fit(Xtrain, Ytrain)\n",
    "print(clf.predict(Xtrain))\n",
    "print(Ytrain)\n",
    "\n"
   ]
  },
  {
   "cell_type": "code",
   "execution_count": 7,
   "id": "df4c6756",
   "metadata": {},
   "outputs": [
    {
     "data": {
      "text/plain": [
       "array([[1, 0, 0, 0],\n",
       "       [0, 1, 0, 0],\n",
       "       [0, 0, 1, 0],\n",
       "       [0, 0, 0, 1]], dtype=int64)"
      ]
     },
     "execution_count": 7,
     "metadata": {},
     "output_type": "execute_result"
    }
   ],
   "source": [
    "from sklearn.metrics import confusion_matrix\n",
    "from sklearn.metrics import classification_report\n",
    "from sklearn.metrics import accuracy_score\n",
    "from sklearn.metrics import f1_score\n",
    "confusion_matrix(Ytrain,clf.predict(Xtrain))\n"
   ]
  },
  {
   "cell_type": "code",
   "execution_count": 8,
   "id": "3a178c76",
   "metadata": {},
   "outputs": [
    {
     "data": {
      "text/plain": [
       "'              precision    recall  f1-score   support\\n\\n    business       1.00      1.00      1.00         1\\nenterainment       1.00      1.00      1.00         1\\n    politics       1.00      1.00      1.00         1\\n       sport       1.00      1.00      1.00         1\\n\\n    accuracy                           1.00         4\\n   macro avg       1.00      1.00      1.00         4\\nweighted avg       1.00      1.00      1.00         4\\n'"
      ]
     },
     "execution_count": 8,
     "metadata": {},
     "output_type": "execute_result"
    }
   ],
   "source": [
    "classification_report(Ytrain,clf.predict(Xtrain))"
   ]
  },
  {
   "cell_type": "code",
   "execution_count": null,
   "id": "3aac3e50",
   "metadata": {},
   "outputs": [],
   "source": []
  }
 ],
 "metadata": {
  "kernelspec": {
   "display_name": "Python 3",
   "language": "python",
   "name": "python3"
  },
  "language_info": {
   "codemirror_mode": {
    "name": "ipython",
    "version": 3
   },
   "file_extension": ".py",
   "mimetype": "text/x-python",
   "name": "python",
   "nbconvert_exporter": "python",
   "pygments_lexer": "ipython3",
   "version": "3.8.8"
  }
 },
 "nbformat": 4,
 "nbformat_minor": 5
}
