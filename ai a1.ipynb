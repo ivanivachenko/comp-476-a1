{
 "cells": [
  {
   "cell_type": "code",
   "execution_count": 3,
   "id": "1c2a444f",
   "metadata": {},
   "outputs": [
    {
     "data": {
      "image/png": "[encoded data removed]",
      "text/plain": [
       "<Figure size 432x288 with 1 Axes>"
      ]
     },
     "metadata": {
      "needs_background": "light"
     },
     "output_type": "display_data"
    }
   ],
   "source": [
    "import matplotlib.pyplot as plt\n",
    "\n",
    "#Plotting a bar graph that shows the amount of documents in each of the 5 classes\n",
    "\n",
    "figure = plt.figure()\n",
    "figure.add_axes([0,0,1,1])\n",
    "classes = ['business', 'enterainment', 'politics', 'sport', 'tech']\n",
    "instances = [510,386,417,511,401]\n",
    "plt.bar(classes,instances)\n",
    "plt.title('Instances in each class')\n",
    "figure.savefig('BBC-distribution.pdf', bbox_inches = \"tight\")\n",
    "\n"
   ]
  },
  {
   "cell_type": "code",
   "execution_count": 4,
   "id": "450f3c8a",
   "metadata": {},
   "outputs": [],
   "source": [
    "from sklearn.datasets import load_files\n",
    "corpus=load_files(r\"C:\\Users\\Rahimuz\\Documents\\GitHub\\comp-476-a1\\BBC\", encoding='latin 1' , random_state=None)\n"
   ]
  },
  {
   "cell_type": "code",
   "execution_count": 5,
   "id": "30525c27",
   "metadata": {},
   "outputs": [
    {
     "name": "stdout",
     "output_type": "stream",
     "text": [
      "['business', 'entertainment', 'politics', 'sport', 'tech']\n",
      "(2225, 29421)\n"
     ]
    }
   ],
   "source": [
    "from sklearn.feature_extraction.text import CountVectorizer\n",
    "\n",
    "vectorizer = CountVectorizer()\n",
    "X = vectorizer.fit_transform(corpus.data)\n",
    "print(corpus.target_names)\n",
    "print(X.shape)\n",
    "#print(X.toarray())\n"
   ]
  },
  {
   "cell_type": "code",
   "execution_count": 6,
   "id": "a65ba3d9",
   "metadata": {},
   "outputs": [
    {
     "name": "stdout",
     "output_type": "stream",
     "text": [
      "(2225, 29421)\n"
     ]
    }
   ],
   "source": [
    "from sklearn.model_selection import train_test_split\n",
    "print(X.shape)\n",
    "Xtrain, Xtest, Ytrain, Ytest= train_test_split(X, corpus.target, train_size = 0.8, test_size=0.2)    \n"
   ]
  },
  {
   "cell_type": "code",
   "execution_count": 7,
   "id": "82d4a9c3",
   "metadata": {},
   "outputs": [
    {
     "name": "stdout",
     "output_type": "stream",
     "text": [
      "[1 4 1 ... 2 4 1]\n",
      "[1 4 1 ... 2 4 1]\n"
     ]
    }
   ],
   "source": [
    "from sklearn.naive_bayes import MultinomialNB\n",
    "clf = MultinomialNB().fit(Xtrain, Ytrain)\n",
    "\n",
    "print(clf.predict(Xtrain))\n",
    "print(Ytrain)\n",
    "y_predict = clf.predict(Xtest)\n",
    "#print(y_predict)\n"
   ]
  },
  {
   "cell_type": "code",
   "execution_count": 8,
   "id": "df4c6756",
   "metadata": {},
   "outputs": [
    {
     "data": {
      "text/plain": [
       "array([[ 90,   0,   2,   0,   2],\n",
       "       [  1,  80,   2,   0,   0],\n",
       "       [  0,   0,  80,   0,   0],\n",
       "       [  0,   0,   0, 107,   0],\n",
       "       [  0,   2,   1,   0,  78]], dtype=int64)"
      ]
     },
     "execution_count": 8,
     "metadata": {},
     "output_type": "execute_result"
    }
   ],
   "source": [
    "from sklearn.metrics import confusion_matrix\n",
    "from sklearn.metrics import classification_report\n",
    "from sklearn.metrics import accuracy_score\n",
    "from sklearn.metrics import f1_score\n",
    "confusion_matrix(Ytest,y_predict)\n"
   ]
  },
  {
   "cell_type": "code",
   "execution_count": 9,
   "id": "3a178c76",
   "metadata": {},
   "outputs": [
    {
     "name": "stdout",
     "output_type": "stream",
     "text": [
      "              precision    recall  f1-score   support\n",
      "\n",
      "           0       0.99      0.96      0.97        94\n",
      "           1       0.98      0.96      0.97        83\n",
      "           2       0.94      1.00      0.97        80\n",
      "           3       1.00      1.00      1.00       107\n",
      "           4       0.97      0.96      0.97        81\n",
      "\n",
      "    accuracy                           0.98       445\n",
      "   macro avg       0.98      0.98      0.98       445\n",
      "weighted avg       0.98      0.98      0.98       445\n",
      "\n"
     ]
    }
   ],
   "source": [
    "print(classification_report(Ytest, y_predict ))"
   ]
  },
  {
   "cell_type": "code",
   "execution_count": 10,
   "id": "3aac3e50",
   "metadata": {},
   "outputs": [
    {
     "name": "stdout",
     "output_type": "stream",
     "text": [
      "the prior probability of class Business: 23 % \n",
      "\n",
      "the prior probability of class Entertainment: 17 % \n",
      "\n",
      "the prior probability of class Politics: 19 % \n",
      "\n",
      "the prior probability of class Sports: 23 % \n",
      "\n",
      "the prior probability of class Tech: 18 % \n",
      "\n"
     ]
    }
   ],
   "source": [
    "#e\n",
    "print(\"the prior probability of class Business:\", round(100*(510/2225)), \"% \\n\")\n",
    "print(\"the prior probability of class Entertainment:\", round(100*(386/2225)), \"% \\n\")\n",
    "print(\"the prior probability of class Politics:\", round(100*(417/2225)), \"% \\n\")\n",
    "print(\"the prior probability of class Sports:\", round(100*(511/2225)), \"% \\n\")\n",
    "print(\"the prior probability of class Tech:\", round(100*(401/2225)), \"% \\n\")\n"
   ]
  },
  {
   "cell_type": "code",
   "execution_count": 11,
   "metadata": {},
   "outputs": [
    {
     "name": "stdout",
     "output_type": "stream",
     "text": [
      "size of vocabulary:  29421\n"
     ]
    }
   ],
   "source": [
    "#f\n",
    "print(\"size of vocabulary: \",len(vectorizer.get_feature_names()))"
   ]
  },
  {
   "cell_type": "code",
   "execution_count": 19,
   "id": "9967e187",
   "metadata": {},
   "outputs": [
    {
     "name": "stdout",
     "output_type": "stream",
     "text": [
      "number of words in  C:\\Users\\Rahimuz\\Documents\\GitHub\\comp-476-a1\\BBC 0\n",
      "number of words in  C:\\Users\\Rahimuz\\Documents\\GitHub\\comp-476-a1\\BBC\\business 167729\n",
      "number of words in  C:\\Users\\Rahimuz\\Documents\\GitHub\\comp-476-a1\\BBC\\entertainment 127620\n",
      "number of words in  C:\\Users\\Rahimuz\\Documents\\GitHub\\comp-476-a1\\BBC\\politics 189307\n",
      "number of words in  C:\\Users\\Rahimuz\\Documents\\GitHub\\comp-476-a1\\BBC\\sport 168253\n",
      "number of words in  C:\\Users\\Rahimuz\\Documents\\GitHub\\comp-476-a1\\BBC\\tech 201581\n",
      "Total number of words in corpus:  854490\n"
     ]
    }
   ],
   "source": [
    "#g,h\n",
    "import os\n",
    "#change path to your own worspaces directory!\n",
    "path=r\"C:\\Users\\Rahimuz\\Documents\\GitHub\\comp-476-a1\\BBC\"\n",
    "os.chdir(path)\n",
    "\n",
    "#might crash, needs fix\n",
    "# def wordtofreq(wordlist):\n",
    "#     wordfreq=[]\n",
    "#     for i in wordlist:\n",
    "#         wordfreq.append(wordlist.count(i))\n",
    "#     #wordfreq= [wordlist.count(i) for i in wordlist]\n",
    "#     for j in wordfreq:\n",
    "#         if(wordfreq[j]==1):\n",
    "#             print (\"word/freq pairs:\", str(list(zip(wordlist,wordfreq[j]))))\n",
    "\n",
    "def read_text_file(file_path):\n",
    "    with open(file_path, 'r') as f:\n",
    "        lines= f.read().split()\n",
    "        s=len(lines)\n",
    "        #wordtofreq(lines)\n",
    "        #print(\"Number of words:\",s)\n",
    "        return s\n",
    "filepath=\"\"\n",
    "dirctr=0\n",
    "for root,directories,files in os.walk(path):\n",
    "    filectr=0\n",
    "    for names in files:\n",
    "        filepath=str(os.path.join(root, names))\n",
    "        #print(filepath)\n",
    "        if names.endswith(\".txt\"):\n",
    "            filectr+=read_text_file(filepath)\n",
    "    #adds up number of words for each classes\n",
    "    print(\"number of words in \",root, filectr)\n",
    "    dirctr+=filectr\n",
    "print(\"Total number of words in corpus: \",dirctr)\n",
    "       "
   ]
  },
  {
   "cell_type": "code",
   "execution_count": 13,
   "id": "6753bd5e",
   "metadata": {},
   "outputs": [
    {
     "name": "stdout",
     "output_type": "stream",
     "text": [
      "29421\n",
      "[  6 804   1 ...   1   4   2]\n"
     ]
    }
   ],
   "source": [
    "#i\n",
    "vectorizer= CountVectorizer()\n",
    "cv_fit=vectorizer.fit_transform(corpus.data)\n",
    "word_list=vectorizer.get_feature_names()\n",
    "count_list= cv_fit.toarray().sum(axis=0)\n",
    "print(len(word_list))\n",
    "print(count_list)"
   ]
  },
  {
   "cell_type": "code",
   "execution_count": 29,
   "metadata": {},
   "outputs": [
    {
     "data": {
      "text/html": [
       "<div>\n",
       "<style scoped>\n",
       "    .dataframe tbody tr th:only-of-type {\n",
       "        vertical-align: middle;\n",
       "    }\n",
       "\n",
       "    .dataframe tbody tr th {\n",
       "        vertical-align: top;\n",
       "    }\n",
       "\n",
       "    .dataframe thead th {\n",
       "        text-align: right;\n",
       "    }\n",
       "</style>\n",
       "<table border=\"1\" class=\"dataframe\">\n",
       "  <thead>\n",
       "    <tr style=\"text-align: right;\">\n",
       "      <th></th>\n",
       "      <th>tf-idf</th>\n",
       "    </tr>\n",
       "  </thead>\n",
       "  <tbody>\n",
       "    <tr>\n",
       "      <th>00</th>\n",
       "      <td>0.000000</td>\n",
       "    </tr>\n",
       "    <tr>\n",
       "      <th>000</th>\n",
       "      <td>0.060331</td>\n",
       "    </tr>\n",
       "    <tr>\n",
       "      <th>0001</th>\n",
       "      <td>0.000000</td>\n",
       "    </tr>\n",
       "    <tr>\n",
       "      <th>000bn</th>\n",
       "      <td>0.000000</td>\n",
       "    </tr>\n",
       "    <tr>\n",
       "      <th>000m</th>\n",
       "      <td>0.000000</td>\n",
       "    </tr>\n",
       "    <tr>\n",
       "      <th>...</th>\n",
       "      <td>...</td>\n",
       "    </tr>\n",
       "    <tr>\n",
       "      <th>zuluaga</th>\n",
       "      <td>0.000000</td>\n",
       "    </tr>\n",
       "    <tr>\n",
       "      <th>zurich</th>\n",
       "      <td>0.000000</td>\n",
       "    </tr>\n",
       "    <tr>\n",
       "      <th>zutons</th>\n",
       "      <td>0.000000</td>\n",
       "    </tr>\n",
       "    <tr>\n",
       "      <th>zvonareva</th>\n",
       "      <td>0.000000</td>\n",
       "    </tr>\n",
       "    <tr>\n",
       "      <th>zvyagintsev</th>\n",
       "      <td>0.000000</td>\n",
       "    </tr>\n",
       "  </tbody>\n",
       "</table>\n",
       "<p>29421 rows × 1 columns</p>\n",
       "</div>"
      ],
      "text/plain": [
       "               tf-idf\n",
       "00           0.000000\n",
       "000          0.060331\n",
       "0001         0.000000\n",
       "000bn        0.000000\n",
       "000m         0.000000\n",
       "...               ...\n",
       "zuluaga      0.000000\n",
       "zurich       0.000000\n",
       "zutons       0.000000\n",
       "zvonareva    0.000000\n",
       "zvyagintsev  0.000000\n",
       "\n",
       "[29421 rows x 1 columns]"
      ]
     },
     "execution_count": 29,
     "metadata": {},
     "output_type": "execute_result"
    }
   ],
   "source": [
    "from sklearn.feature_extraction.text import TfidfVectorizer\n",
    "import pandas as pd\n",
    "\n",
    "vectorizer= TfidfVectorizer()\n",
    "\n",
    "vectorizer.fit(corpus.data)\n",
    "tf_v= vectorizer.transform(corpus.data)\n",
    "#print(tf_v.toarray())\n",
    "#print(tf_v)\n",
    "sktf= tf_v[1]\n",
    "df_tf=pd.DataFrame(sktf.T.todense(), index=vectorizer.get_feature_names(), columns=['tf-idf'])\n",
    "df_tf.sort_values(by=[\"tf-idf\"], ascending=True)\n",
    "df_tf"
   ]
  },
  {
   "cell_type": "code",
   "execution_count": 32,
   "metadata": {},
   "outputs": [
    {
     "ename": "NotImplementedError",
     "evalue": "adding a nonzero scalar to a sparse matrix is not supported",
     "output_type": "error",
     "traceback": [
      "\u001b[1;31m---------------------------------------------------------------------------\u001b[0m",
      "\u001b[1;31mNotImplementedError\u001b[0m                       Traceback (most recent call last)",
      "\u001b[1;32m<ipython-input-32-93acdb6a9545>\u001b[0m in \u001b[0;36m<module>\u001b[1;34m\u001b[0m\n\u001b[0;32m     11\u001b[0m \u001b[1;33m\u001b[0m\u001b[0m\n\u001b[0;32m     12\u001b[0m \u001b[0mtokenizer\u001b[0m\u001b[1;33m=\u001b[0m \u001b[0mRegexpTokenizer\u001b[0m\u001b[1;33m(\u001b[0m\u001b[1;34mr'\\w+'\u001b[0m\u001b[1;33m)\u001b[0m\u001b[1;33m\u001b[0m\u001b[1;33m\u001b[0m\u001b[0m\n\u001b[1;32m---> 13\u001b[1;33m \u001b[0mtokens\u001b[0m\u001b[1;33m=\u001b[0m \u001b[0mtokenizer\u001b[0m\u001b[1;33m.\u001b[0m\u001b[0mtokenize\u001b[0m\u001b[1;33m(\u001b[0m\u001b[0mlsToString\u001b[0m\u001b[1;33m(\u001b[0m\u001b[0mXtrain\u001b[0m\u001b[1;33m)\u001b[0m\u001b[1;33m)\u001b[0m\u001b[1;33m\u001b[0m\u001b[1;33m\u001b[0m\u001b[0m\n\u001b[0m\u001b[0;32m     14\u001b[0m \u001b[0mprint\u001b[0m\u001b[1;33m(\u001b[0m\u001b[0mlen\u001b[0m\u001b[1;33m(\u001b[0m\u001b[0mtokens\u001b[0m\u001b[1;33m)\u001b[0m\u001b[1;33m)\u001b[0m\u001b[1;33m\u001b[0m\u001b[1;33m\u001b[0m\u001b[0m\n",
      "\u001b[1;32m<ipython-input-32-93acdb6a9545>\u001b[0m in \u001b[0;36mlsToString\u001b[1;34m(cp)\u001b[0m\n\u001b[0;32m      3\u001b[0m     \u001b[0mstr1\u001b[0m\u001b[1;33m=\u001b[0m \u001b[1;34m\"\"\u001b[0m\u001b[1;33m\u001b[0m\u001b[1;33m\u001b[0m\u001b[0m\n\u001b[0;32m      4\u001b[0m     \u001b[1;32mfor\u001b[0m \u001b[0mi\u001b[0m \u001b[1;32min\u001b[0m \u001b[0mcp\u001b[0m\u001b[1;33m:\u001b[0m\u001b[1;33m\u001b[0m\u001b[1;33m\u001b[0m\u001b[0m\n\u001b[1;32m----> 5\u001b[1;33m         \u001b[0mstr1\u001b[0m\u001b[1;33m+=\u001b[0m\u001b[0mi\u001b[0m\u001b[1;33m\u001b[0m\u001b[1;33m\u001b[0m\u001b[0m\n\u001b[0m\u001b[0;32m      6\u001b[0m     \u001b[1;32mreturn\u001b[0m \u001b[0mstr1\u001b[0m\u001b[1;33m\u001b[0m\u001b[1;33m\u001b[0m\u001b[0m\n\u001b[0;32m      7\u001b[0m \u001b[1;33m\u001b[0m\u001b[0m\n",
      "\u001b[1;32m~\\anaconda3\\lib\\site-packages\\scipy\\sparse\\base.py\u001b[0m in \u001b[0;36m__radd__\u001b[1;34m(self, other)\u001b[0m\n\u001b[0;32m    421\u001b[0m \u001b[1;33m\u001b[0m\u001b[0m\n\u001b[0;32m    422\u001b[0m     \u001b[1;32mdef\u001b[0m \u001b[0m__radd__\u001b[0m\u001b[1;33m(\u001b[0m\u001b[0mself\u001b[0m\u001b[1;33m,\u001b[0m\u001b[0mother\u001b[0m\u001b[1;33m)\u001b[0m\u001b[1;33m:\u001b[0m  \u001b[1;31m# other + self\u001b[0m\u001b[1;33m\u001b[0m\u001b[1;33m\u001b[0m\u001b[0m\n\u001b[1;32m--> 423\u001b[1;33m         \u001b[1;32mreturn\u001b[0m \u001b[0mself\u001b[0m\u001b[1;33m.\u001b[0m\u001b[0m__add__\u001b[0m\u001b[1;33m(\u001b[0m\u001b[0mother\u001b[0m\u001b[1;33m)\u001b[0m\u001b[1;33m\u001b[0m\u001b[1;33m\u001b[0m\u001b[0m\n\u001b[0m\u001b[0;32m    424\u001b[0m \u001b[1;33m\u001b[0m\u001b[0m\n\u001b[0;32m    425\u001b[0m     \u001b[1;32mdef\u001b[0m \u001b[0m__sub__\u001b[0m\u001b[1;33m(\u001b[0m\u001b[0mself\u001b[0m\u001b[1;33m,\u001b[0m \u001b[0mother\u001b[0m\u001b[1;33m)\u001b[0m\u001b[1;33m:\u001b[0m  \u001b[1;31m# self - other\u001b[0m\u001b[1;33m\u001b[0m\u001b[1;33m\u001b[0m\u001b[0m\n",
      "\u001b[1;32m~\\anaconda3\\lib\\site-packages\\scipy\\sparse\\base.py\u001b[0m in \u001b[0;36m__add__\u001b[1;34m(self, other)\u001b[0m\n\u001b[0;32m    408\u001b[0m                 \u001b[1;32mreturn\u001b[0m \u001b[0mself\u001b[0m\u001b[1;33m.\u001b[0m\u001b[0mcopy\u001b[0m\u001b[1;33m(\u001b[0m\u001b[1;33m)\u001b[0m\u001b[1;33m\u001b[0m\u001b[1;33m\u001b[0m\u001b[0m\n\u001b[0;32m    409\u001b[0m             \u001b[1;31m# Now we would add this scalar to every element.\u001b[0m\u001b[1;33m\u001b[0m\u001b[1;33m\u001b[0m\u001b[1;33m\u001b[0m\u001b[0m\n\u001b[1;32m--> 410\u001b[1;33m             raise NotImplementedError('adding a nonzero scalar to a '\n\u001b[0m\u001b[0;32m    411\u001b[0m                                       'sparse matrix is not supported')\n\u001b[0;32m    412\u001b[0m         \u001b[1;32melif\u001b[0m \u001b[0misspmatrix\u001b[0m\u001b[1;33m(\u001b[0m\u001b[0mother\u001b[0m\u001b[1;33m)\u001b[0m\u001b[1;33m:\u001b[0m\u001b[1;33m\u001b[0m\u001b[1;33m\u001b[0m\u001b[0m\n",
      "\u001b[1;31mNotImplementedError\u001b[0m: adding a nonzero scalar to a sparse matrix is not supported"
     ]
    }
   ],
   "source": [
    "from nltk.tokenize import RegexpTokenizer\n",
    "def lsToString(cp):\n",
    "    str1= \"\"\n",
    "    for i in cp:\n",
    "        str1+=i\n",
    "    return str1\n",
    "\n",
    "cptostring= lsToString(corpus.data)\n",
    "\n",
    "counts= pd.DataFrame(X.toarray(), columns=vectorizer.get_feature_names())\n",
    "\n",
    "tokenizer= RegexpTokenizer(r'\\w+')\n",
    "tokens= tokenizer.tokenize(lsToString(Xtrain))\n",
    "print(len(tokens))"
   ]
  },
  {
   "cell_type": "code",
   "execution_count": null,
   "metadata": {},
   "outputs": [],
   "source": []
  }
 ],
 "metadata": {
  "interpreter": {
   "hash": "96c02c3a065667c0fd32687aee6a26623501f8d02a6275135445375c7355c589"
  },
  "kernelspec": {
   "display_name": "Python 3.8.8 64-bit ('base': conda)",
   "name": "python3"
  },
  "language_info": {
   "codemirror_mode": {
    "name": "ipython",
    "version": 3
   },
   "file_extension": ".py",
   "mimetype": "text/x-python",
   "name": "python",
   "nbconvert_exporter": "python",
   "pygments_lexer": "ipython3",
   "version": "3.8.8"
  }
 },
 "nbformat": 4,
 "nbformat_minor": 5
}
